{
 "metadata": {
  "name": ""
 },
 "nbformat": 3,
 "nbformat_minor": 0,
 "worksheets": [
  {
   "cells": [
    {
     "cell_type": "markdown",
     "metadata": {},
     "source": [
      "[Wiki-Class](http://pythonhosted.org/wikiclass/) is python package that can  determine the _quality_ of a Wikipedia page, using machine learning. It is the open-sourcing of the [Random Forest](https://www.wikidata.org/wiki/Q245748#sitelinks-wikipedia) algorithm used by [SuggestBot](https://en.wikipedia.org/wiki/User:SuggestBot). SuggestBot is an opt-in recommender to Wikipedia editors, offering pages that need work which look like pages they've worked on before. Similarly, with this package, you get a function that accepts a string of [wikitext](https://en.wikipedia.org/wiki/Wikipedia:Wikitext), and returns a [Wikipedia Class ('Stub', 'C-Class', 'Featured Article', etc.)](https://en.wikipedia.org/wiki/Wikipedia:Quality_scale#Grades).  Wiki-class is currently in `alpha` according to its packager and developer [@halfak](https://twitter.com/halfak), and although I had to make a few patches to get some examples to work, it's ready to start classifying your wikitext.\n",
      "\n",
      "#Overview\n",
      "\n",
      "1. Setting it up on Ubuntu.\n",
      "1. Testing the batteries-included model.\n",
      "1. Using the output by introducing a closeness measure.\n",
      "2. Testing making our own model.\n",
      "\n",
      "##Setup\n",
      "\n",
      "At first you may be frustrated to learn that Wiki-Class is Python 3 only. You'll not be able to mix it with pywikibot, which is Python 2.7 only, and that can also mean upgrading some of your other tools. However just try to recall these update gripes next time you encounter a UnicodeError in Python 2.x; and then be thankful to Halfak for making us give Python 3 a try. I outline getting the environment running in Ubuntu 14.04 here.\n",
      "\n",
      "Firstly, if you want to use the Ipython notebook with python3 you can do so with  `apt-get`. And while we're at it, for convenince we'll also install another version of pip for Python 3.\n"
     ]
    },
    {
     "cell_type": "code",
     "collapsed": false,
     "input": [
      "!sudo apt-get install ipython3-notebook python3-pip"
     ],
     "language": "python",
     "metadata": {},
     "outputs": [
      {
       "output_type": "stream",
       "stream": "stdout",
       "text": [
        "[sudo] password for notconfusing: "
       ]
      },
      {
       "output_type": "stream",
       "stream": "stdout",
       "text": [
        "\r\n",
        "\r\n"
       ]
      }
     ],
     "prompt_number": 95
    },
    {
     "cell_type": "markdown",
     "metadata": {},
     "source": [
      "Some requirements of Wiki-class, including sklearn, and nltk, which are a pain with Python 3 since they haven't been properly packaged for it yet. So these you'll have to get from source:"
     ]
    },
    {
     "cell_type": "code",
     "collapsed": true,
     "input": [
      "!pip3 install git+https://github.com/scikit-learn/scikit-learn.git\n",
      "!pip3 install git+https://github.com/nltk/nltk/#"
     ],
     "language": "python",
     "metadata": {},
     "outputs": [],
     "prompt_number": 1
    },
    {
     "cell_type": "markdown",
     "metadata": {},
     "source": [
      "##Making some random pages for a test dataset\n",
      "We'll need to get some Wikitext, with associated classifications, to start testing. I elected to make a random datasetin pywikibot, which as already stated is Python 2.7 only, and thus needs to be in a separate notebook, you can [view it on the nbviewer still](http://nbviewer.ipython.org/github/notconfusing/Wiki-Class/blob/master/Data%20Download%20Random%20Pages%20with%20Class%20python2.ipynb). Its output is a file `test_class_data.json` [(github link of the bzip)](https://github.com/notconfusing/Wiki-Class/blob/master/test_class_data.json.bz2) which is just a dictionary associating qualities and page-texts.\n",
      "\n",
      "Warning, this dataset has some examples that can cause a `ZeroDivisonError` because some of these pages have 0 non-mark-up text. I wrote [this patch](https://github.com/halfak/Wiki-Class/pull/5) which fixes this issue."
     ]
    },
    {
     "cell_type": "markdown",
     "metadata": {},
     "source": [
      "#Testing the Pre-built Model"
     ]
    },
    {
     "cell_type": "code",
     "collapsed": false,
     "input": [
      "import json\n",
      "import pandas as pd\n",
      "from wikiclass.models import RFTextModel"
     ],
     "language": "python",
     "metadata": {},
     "outputs": [
      {
       "output_type": "stream",
       "stream": "stderr",
       "text": [
        "/usr/local/lib/python3.4/dist-packages/pandas/io/excel.py:626: UserWarning: Installed openpyxl is not supported at this time. Use >=1.6.1 and <2.0.0.\n",
        "  .format(openpyxl_compat.start_ver, openpyxl_compat.stop_ver))\n"
       ]
      }
     ],
     "prompt_number": 3
    },
    {
     "cell_type": "markdown",
     "metadata": {},
     "source": [
      "Each model is stored in a `.model` file. A default one is included in the github repo. "
     ]
    },
    {
     "cell_type": "code",
     "collapsed": false,
     "input": [
      "!wget https://github.com/halfak/Wiki-Class/blob/master/models/enwiki.rf_text.model?raw=true"
     ],
     "language": "python",
     "metadata": {},
     "outputs": []
    },
    {
     "cell_type": "code",
     "collapsed": false,
     "input": [
      "!mv enwiki.rf_text.model\\?raw\\=true enwiki.rf_text.model"
     ],
     "language": "python",
     "metadata": {},
     "outputs": [],
     "prompt_number": 35
    },
    {
     "cell_type": "markdown",
     "metadata": {},
     "source": [
      "Now we load the model."
     ]
    },
    {
     "cell_type": "code",
     "collapsed": false,
     "input": [
      "model = RFTextModel.from_file(open(\"enwiki.rf_text.model\",'rb'))"
     ],
     "language": "python",
     "metadata": {},
     "outputs": [],
     "prompt_number": 4
    },
    {
     "cell_type": "code",
     "collapsed": false,
     "input": [
      "classed_items = json.load(open('test_class_data.json','r'))\n",
      "print(sum([len(l) for l in classed_items.values()]))"
     ],
     "language": "python",
     "metadata": {},
     "outputs": [
      {
       "output_type": "stream",
       "stream": "stdout",
       "text": [
        "38959\n"
       ]
      }
     ],
     "prompt_number": 5
    },
    {
     "cell_type": "markdown",
     "metadata": {},
     "source": [
      "The Wiki-Class-provided model only deals with _'Stub', 'Start', 'B', 'C', 'Good Article'_, and _'Featured Article'_ classifications. It does not include not _'List', 'Featured List',_ or _'Disambig'_ class pages. So we have to sort out the standard classes out of our 38,000 test articles."
     ]
    },
    {
     "cell_type": "code",
     "collapsed": false,
     "input": [
      "standards = {actual: text for actual, text in classed_items.items() if actual in ['Stub', 'Start', 'C', 'B', 'GA', 'FA'] }"
     ],
     "language": "python",
     "metadata": {},
     "outputs": [],
     "prompt_number": 6
    },
    {
     "cell_type": "code",
     "collapsed": false,
     "input": [
      "print(sum([len(l) for l in standards.values()]))"
     ],
     "language": "python",
     "metadata": {},
     "outputs": [
      {
       "output_type": "stream",
       "stream": "stdout",
       "text": [
        "36873\n"
       ]
      }
     ],
     "prompt_number": 5
    },
    {
     "cell_type": "markdown",
     "metadata": {},
     "source": [
      "Now we iterate over our 36,000 standard-class pages, and put their Wiki-Class assessments into a DataFrame."
     ]
    },
    {
     "cell_type": "code",
     "collapsed": false,
     "input": [
      "accuracy_df = pd.DataFrame(index=classed_items.keys(), columns=['actual','correct', 'model_prob', 'actual_prob'])\n",
      "for actual, text_list in standards.items():\n",
      "    #see if actual is even here, otherwise no fair comparison\n",
      "        for text in text_list:\n",
      "            try:\n",
      "                assessment, probabilities = model.classify(text)\n",
      "            except ZeroDivisionError:\n",
      "                continue\n",
      "                #print(actual, text)\n",
      "            accuracy_df = accuracy_df.append({'actual': actual,\n",
      "                                              'correct':int(assessment == actual),\n",
      "                                              'model_prob': probabilities[assessment],\n",
      "                                              'actual_prob': probabilities[actual]}, ignore_index=True)"
     ],
     "language": "python",
     "metadata": {},
     "outputs": [],
     "prompt_number": 6
    },
    {
     "cell_type": "markdown",
     "metadata": {},
     "source": [
      "What you see here is that the output of an assessment is really two things. The _'assessment'_ which is simply the _'class'_ which the algorithm predicts best, but secondly a _dictionary of probablities_ of how likely the text is to belong to each class. \n",
      "\n",
      "In our DataFrame we record four data.  The _'actual'_ class as Wikipedia classes it; whether the actual class matches the model prediction. The probabilty (read: \"confidence\") of the model prediction. And lastly the probability of the actual class. Note in the \"correct\" case `model_prob` and `actual_prob` are the same."
     ]
    },
    {
     "cell_type": "code",
     "collapsed": false,
     "input": [
      "df  = accuracy_df.dropna(how='all')\n",
      "df.head()"
     ],
     "language": "python",
     "metadata": {},
     "outputs": [
      {
       "html": [
        "<div style=\"max-height:1000px;max-width:1500px;overflow:auto;\">\n",
        "<table border=\"1\" class=\"dataframe\">\n",
        "  <thead>\n",
        "    <tr style=\"text-align: right;\">\n",
        "      <th></th>\n",
        "      <th>actual</th>\n",
        "      <th>correct</th>\n",
        "      <th>model_prob</th>\n",
        "      <th>actual_prob</th>\n",
        "    </tr>\n",
        "  </thead>\n",
        "  <tbody>\n",
        "    <tr>\n",
        "      <th>18</th>\n",
        "      <td> Start</td>\n",
        "      <td> 0</td>\n",
        "      <td> 0.4</td>\n",
        "      <td> 0.0</td>\n",
        "    </tr>\n",
        "    <tr>\n",
        "      <th>19</th>\n",
        "      <td> Start</td>\n",
        "      <td> 1</td>\n",
        "      <td> 0.8</td>\n",
        "      <td> 0.8</td>\n",
        "    </tr>\n",
        "    <tr>\n",
        "      <th>20</th>\n",
        "      <td> Start</td>\n",
        "      <td> 0</td>\n",
        "      <td> 0.4</td>\n",
        "      <td> 0.0</td>\n",
        "    </tr>\n",
        "    <tr>\n",
        "      <th>21</th>\n",
        "      <td> Start</td>\n",
        "      <td> 0</td>\n",
        "      <td> 1.0</td>\n",
        "      <td> 0.0</td>\n",
        "    </tr>\n",
        "    <tr>\n",
        "      <th>22</th>\n",
        "      <td> Start</td>\n",
        "      <td> 1</td>\n",
        "      <td> 0.7</td>\n",
        "      <td> 0.7</td>\n",
        "    </tr>\n",
        "  </tbody>\n",
        "</table>\n",
        "</div>"
       ],
       "metadata": {},
       "output_type": "pyout",
       "prompt_number": 7,
       "text": [
        "   actual  correct  model_prob  actual_prob\n",
        "18  Start        0         0.4          0.0\n",
        "19  Start        1         0.8          0.8\n",
        "20  Start        0         0.4          0.0\n",
        "21  Start        0         1.0          0.0\n",
        "22  Start        1         0.7          0.7"
       ]
      }
     ],
     "prompt_number": 7
    },
    {
     "cell_type": "markdown",
     "metadata": {},
     "source": [
      "If we look at the `correct` mean averages we should hopefully see something above 1/6th, which would be the performance of just guessing. Which we do."
     ]
    },
    {
     "cell_type": "code",
     "collapsed": false,
     "input": [
      "groups = df.groupby(by='actual')\n",
      "groups['correct'].mean()"
     ],
     "language": "python",
     "metadata": {},
     "outputs": [
      {
       "metadata": {},
       "output_type": "pyout",
       "prompt_number": 8,
       "text": [
        "actual\n",
        "B         0.247391\n",
        "C         0.278138\n",
        "FA        0.854167\n",
        "GA        0.444444\n",
        "Start     0.387334\n",
        "Stub      0.698394\n",
        "Name: correct, dtype: float64"
       ]
      }
     ],
     "prompt_number": 8
    },
    {
     "cell_type": "markdown",
     "metadata": {},
     "source": [
      "#See how \"close\" predications are if they are not correct."
     ]
    },
    {
     "cell_type": "markdown",
     "metadata": {},
     "source": [
      "Now we hack on the output. The Random Forest is really just binning text into difference classes, it doesn't know that some of the classes are closer to each other than others. Therefore we define a distance metric on the Standard Wiki classes. I call this order the _\"Classic Order\"_ To get an intuition, consider this example. If an article is a _Good Aritcle_ and the model prediction is also _Good Article_ then it is off by 0; if the model prediction is _Featured Article_ it is off off by 1; if the model prediction is _Start_ then it was off by 3."
     ]
    },
    {
     "cell_type": "code",
     "collapsed": false,
     "input": [
      "classic_order = ['Stub', 'Start', 'C', 'B', 'GA', 'FA']\n",
      "enum_classic = enumerate(classic_order)\n",
      "\n",
      "for enum, classic in dict(enum_classic).items():\n",
      "    print(enum, classic)"
     ],
     "language": "python",
     "metadata": {},
     "outputs": [
      {
       "output_type": "stream",
       "stream": "stdout",
       "text": [
        "0 Stub\n",
        "1 Start\n",
        "2 C\n",
        "3 B\n",
        "4 GA\n",
        "5 FA\n"
       ]
      }
     ],
     "prompt_number": 7
    },
    {
     "cell_type": "markdown",
     "metadata": {},
     "source": [
      "Now we are going to iterate over the same dataset as above, but instead of recording \"correctness\", we record the closesness in a DataFrame."
     ]
    },
    {
     "cell_type": "code",
     "collapsed": false,
     "input": [
      "classic_order = ['Stub', 'Start', 'C', 'B', 'GA', 'FA']\n",
      "classic_dict = dict(zip(classic_order, range(len(classic_order))))\n",
      "\n",
      "off_by_df = pd.DataFrame(index=classed_items.keys(), columns=['actual','off_by'])\n",
      "\n",
      "for classic in classic_order:\n",
      "    for text in standards[classic]:\n",
      "            try:\n",
      "                assessment, probabilities = model.classify(text)\n",
      "            except ZeroDivisionError:\n",
      "                continue\n",
      "                #print(actual, text)\n",
      "            off_by_df = off_by_df.append({'actual': classic,\n",
      "                                              'off_by':abs(classic_dict[assessment] - classic_dict[classic])}, ignore_index=True)"
     ],
     "language": "python",
     "metadata": {},
     "outputs": [],
     "prompt_number": 8
    },
    {
     "cell_type": "markdown",
     "metadata": {},
     "source": [
      "So it should look something like this as a table"
     ]
    },
    {
     "cell_type": "code",
     "collapsed": false,
     "input": [
      "off_by  = off_by_df.dropna(how='all')\n",
      "off_by.head()"
     ],
     "language": "python",
     "metadata": {},
     "outputs": [
      {
       "html": [
        "<div style=\"max-height:1000px;max-width:1500px;overflow:auto;\">\n",
        "<table border=\"1\" class=\"dataframe\">\n",
        "  <thead>\n",
        "    <tr style=\"text-align: right;\">\n",
        "      <th></th>\n",
        "      <th>actual</th>\n",
        "      <th>off_by</th>\n",
        "    </tr>\n",
        "  </thead>\n",
        "  <tbody>\n",
        "    <tr>\n",
        "      <th>18</th>\n",
        "      <td> Stub</td>\n",
        "      <td> 2</td>\n",
        "    </tr>\n",
        "    <tr>\n",
        "      <th>19</th>\n",
        "      <td> Stub</td>\n",
        "      <td> 1</td>\n",
        "    </tr>\n",
        "    <tr>\n",
        "      <th>20</th>\n",
        "      <td> Stub</td>\n",
        "      <td> 0</td>\n",
        "    </tr>\n",
        "    <tr>\n",
        "      <th>21</th>\n",
        "      <td> Stub</td>\n",
        "      <td> 0</td>\n",
        "    </tr>\n",
        "    <tr>\n",
        "      <th>22</th>\n",
        "      <td> Stub</td>\n",
        "      <td> 0</td>\n",
        "    </tr>\n",
        "  </tbody>\n",
        "</table>\n",
        "</div>"
       ],
       "metadata": {},
       "output_type": "pyout",
       "prompt_number": 9,
       "text": [
        "   actual  off_by\n",
        "18   Stub       2\n",
        "19   Stub       1\n",
        "20   Stub       0\n",
        "21   Stub       0\n",
        "22   Stub       0"
       ]
      }
     ],
     "prompt_number": 9
    },
    {
     "cell_type": "markdown",
     "metadata": {},
     "source": [
      "And as a chart."
     ]
    },
    {
     "cell_type": "code",
     "collapsed": false,
     "input": [
      "%pylab inline"
     ],
     "language": "python",
     "metadata": {},
     "outputs": [
      {
       "output_type": "stream",
       "stream": "stdout",
       "text": [
        "Populating the interactive namespace from numpy and matplotlib\n"
       ]
      },
      {
       "output_type": "stream",
       "stream": "stderr",
       "text": [
        "WARNING: pylab import has clobbered these variables: ['text']\n",
        "`%pylab --no-import-all` prevents importing * from pylab and numpy\n"
       ]
      }
     ],
     "prompt_number": 10
    },
    {
     "cell_type": "markdown",
     "metadata": {},
     "source": [
      "We can see that the middle classes are less easy to predict where as the ends are easier. This would corroborate our expectations. Since the the quality sprectrum bleed past these rather arbitrary cut-off points,ore of the quality specturm would lie in these intervals, and so its easier to bin them."
     ]
    },
    {
     "cell_type": "code",
     "collapsed": false,
     "input": [
      "ax = off_by.groupby(by='actual',sort=False).mean().plot(title='Prediction Closeness by Quality Class', kind='bar', legend=False)\n",
      "                                                   \n",
      "ax.set_ylabel('''Prediction Closeness (lower is more accurate)''')\n",
      "ax.set_xlabel('''Quality Class''')"
     ],
     "language": "python",
     "metadata": {},
     "outputs": [
      {
       "metadata": {},
       "output_type": "pyout",
       "prompt_number": 11,
       "text": [
        "<matplotlib.text.Text at 0x7fc089810550>"
       ]
      },
      {
       "metadata": {},
       "output_type": "display_data",
       "png": "[encoded data removed]",
       "text": [
        "<matplotlib.figure.Figure at 0x7fc0897eeac8>"
       ]
      }
     ],
     "prompt_number": 11
    },
    {
     "cell_type": "markdown",
     "metadata": {},
     "source": [
      "#Making a model"
     ]
    },
    {
     "cell_type": "markdown",
     "metadata": {},
     "source": [
      "Now we test the model-making feature. We will use our dataset of 'standards' from above, using a random 80% for training and 20% for testing."
     ]
    },
    {
     "cell_type": "code",
     "collapsed": false,
     "input": [
      "from wikiclass.models import RFTextModel\n",
      "from wikiclass import assessments"
     ],
     "language": "python",
     "metadata": {},
     "outputs": [],
     "prompt_number": 27
    },
    {
     "cell_type": "markdown",
     "metadata": {},
     "source": [
      "Divvyig up our data into two lists."
     ]
    },
    {
     "cell_type": "code",
     "collapsed": false,
     "input": [
      "import random\n",
      "\n",
      "train_set = list()\n",
      "test_set = list()\n",
      "for actual, text_list in standards.items():\n",
      "    for text in text_list:\n",
      "        if random.randint(0,9) >= 8:\n",
      "            test_set.append( (text, actual) )\n",
      "        else:\n",
      "            train_set.append( (text, actual) )\n",
      "\n",
      "print(len(test_set)/len(train_set))"
     ],
     "language": "python",
     "metadata": {},
     "outputs": [
      {
       "output_type": "stream",
       "stream": "stdout",
       "text": [
        "0.2510772571506124\n"
       ]
      }
     ],
     "prompt_number": 28
    },
    {
     "cell_type": "markdown",
     "metadata": {},
     "source": [
      "And the next step is quite simple, we just click a button supplying our train_set list, and test by supplying our test_set list. Also the package conveniently supplies a saving function for us to store our model for later use."
     ]
    },
    {
     "cell_type": "code",
     "collapsed": false,
     "input": [
      "# Train a model\n",
      "model = RFTextModel.train(\n",
      "    train_set,\n",
      "    assessments=assessments.WP10\n",
      ")\n",
      "\n",
      "# Run the test set & print the results\n",
      "results = model.test(test_set)\n",
      "print(results)\n",
      "\n",
      "# Write the model to disk for reuse.\n",
      "model.to_file(open(\"36K_random_enwiki.rf_text.model\", \"wb\"))"
     ],
     "language": "python",
     "metadata": {},
     "outputs": [
      {
       "output_type": "stream",
       "stream": "stdout",
       "text": [
        "pred assessment    B    C  FA  GA  Start  Stub\n",
        "real assessment                               \n",
        "B                130   29   1   5    105    40\n",
        "C                 34  112   0   2    151    33\n",
        "FA                 7    3   4   0      1     0\n",
        "GA                 8    8   0  11      9     1\n",
        "Start             80   87   0   2   1420   525\n",
        "Stub              40   32   0   0    547  3973\n"
       ]
      }
     ],
     "prompt_number": 29
    },
    {
     "cell_type": "markdown",
     "metadata": {},
     "source": [
      "Now to look at accuracy, we norm the DataFrame row-wise."
     ]
    },
    {
     "cell_type": "code",
     "collapsed": false,
     "input": [
      "norm_results = results.apply(lambda col: col / col.sum(), axis=1)\n",
      "norm_results"
     ],
     "language": "python",
     "metadata": {},
     "outputs": [
      {
       "html": [
        "<div style=\"max-height:1000px;max-width:1500px;overflow:auto;\">\n",
        "<table border=\"1\" class=\"dataframe\">\n",
        "  <thead>\n",
        "    <tr style=\"text-align: right;\">\n",
        "      <th>pred assessment</th>\n",
        "      <th>B</th>\n",
        "      <th>C</th>\n",
        "      <th>FA</th>\n",
        "      <th>GA</th>\n",
        "      <th>Start</th>\n",
        "      <th>Stub</th>\n",
        "    </tr>\n",
        "    <tr>\n",
        "      <th>real assessment</th>\n",
        "      <th></th>\n",
        "      <th></th>\n",
        "      <th></th>\n",
        "      <th></th>\n",
        "      <th></th>\n",
        "      <th></th>\n",
        "    </tr>\n",
        "  </thead>\n",
        "  <tbody>\n",
        "    <tr>\n",
        "      <th>B</th>\n",
        "      <td> 0.419355</td>\n",
        "      <td> 0.093548</td>\n",
        "      <td> 0.003226</td>\n",
        "      <td> 0.016129</td>\n",
        "      <td> 0.338710</td>\n",
        "      <td> 0.129032</td>\n",
        "    </tr>\n",
        "    <tr>\n",
        "      <th>C</th>\n",
        "      <td> 0.102410</td>\n",
        "      <td> 0.337349</td>\n",
        "      <td> 0.000000</td>\n",
        "      <td> 0.006024</td>\n",
        "      <td> 0.454819</td>\n",
        "      <td> 0.099398</td>\n",
        "    </tr>\n",
        "    <tr>\n",
        "      <th>FA</th>\n",
        "      <td> 0.466667</td>\n",
        "      <td> 0.200000</td>\n",
        "      <td> 0.266667</td>\n",
        "      <td> 0.000000</td>\n",
        "      <td> 0.066667</td>\n",
        "      <td> 0.000000</td>\n",
        "    </tr>\n",
        "    <tr>\n",
        "      <th>GA</th>\n",
        "      <td> 0.216216</td>\n",
        "      <td> 0.216216</td>\n",
        "      <td> 0.000000</td>\n",
        "      <td> 0.297297</td>\n",
        "      <td> 0.243243</td>\n",
        "      <td> 0.027027</td>\n",
        "    </tr>\n",
        "    <tr>\n",
        "      <th>Start</th>\n",
        "      <td> 0.037843</td>\n",
        "      <td> 0.041154</td>\n",
        "      <td> 0.000000</td>\n",
        "      <td> 0.000946</td>\n",
        "      <td> 0.671712</td>\n",
        "      <td> 0.248344</td>\n",
        "    </tr>\n",
        "    <tr>\n",
        "      <th>Stub</th>\n",
        "      <td> 0.008711</td>\n",
        "      <td> 0.006969</td>\n",
        "      <td> 0.000000</td>\n",
        "      <td> 0.000000</td>\n",
        "      <td> 0.119120</td>\n",
        "      <td> 0.865200</td>\n",
        "    </tr>\n",
        "  </tbody>\n",
        "</table>\n",
        "</div>"
       ],
       "metadata": {},
       "output_type": "pyout",
       "prompt_number": 30,
       "text": [
        "pred assessment         B         C        FA        GA     Start      Stub\n",
        "real assessment                                                            \n",
        "B                0.419355  0.093548  0.003226  0.016129  0.338710  0.129032\n",
        "C                0.102410  0.337349  0.000000  0.006024  0.454819  0.099398\n",
        "FA               0.466667  0.200000  0.266667  0.000000  0.066667  0.000000\n",
        "GA               0.216216  0.216216  0.000000  0.297297  0.243243  0.027027\n",
        "Start            0.037843  0.041154  0.000000  0.000946  0.671712  0.248344\n",
        "Stub             0.008711  0.006969  0.000000  0.000000  0.119120  0.865200"
       ]
      }
     ],
     "prompt_number": 30
    },
    {
     "cell_type": "markdown",
     "metadata": {},
     "source": [
      "And finally we can view the peformance by class, which intriguingly seems to be better than what we got with the batteries-included model."
     ]
    },
    {
     "cell_type": "code",
     "collapsed": false,
     "input": [
      "for c in classic_order:\n",
      "    print(c, norm_results.loc[c][c])"
     ],
     "language": "python",
     "metadata": {},
     "outputs": [
      {
       "output_type": "stream",
       "stream": "stdout",
       "text": [
        "Stub 0.865200348432\n",
        "Start 0.671712393567\n",
        "C 0.33734939759\n",
        "B 0.41935483871\n",
        "GA 0.297297297297\n",
        "FA 0.266666666667\n"
       ]
      }
     ],
     "prompt_number": 35
    },
    {
     "cell_type": "markdown",
     "metadata": {},
     "source": [
      "We can see that, having a large number of stubs to train on really gives us a high precision in classifying them.\n",
      "\n",
      "So there you have it - a brief playing around with Wiki-Class, an easy way to get rough quality estimates out of your data. If you extend any more examples of using this class, I'd be intrigued to see and collaborate on them.\n",
      "\n",
      "\u203d[@notconusing](https://twitter.com/notconfusing)"
     ]
    },
    {
     "cell_type": "code",
     "collapsed": false,
     "input": [],
     "language": "python",
     "metadata": {},
     "outputs": []
    }
   ],
   "metadata": {}
  }
 ]
}